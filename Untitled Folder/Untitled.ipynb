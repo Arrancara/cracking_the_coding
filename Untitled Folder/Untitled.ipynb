{
 "cells": [
  {
   "cell_type": "markdown",
   "id": "f068b725",
   "metadata": {},
   "source": [
    "### Chapter 2\n",
    "\n",
    "2.1 Write code to remove duplicates from an unsorted linked list."
   ]
  },
  {
   "cell_type": "code",
   "execution_count": null,
   "id": "5417c207",
   "metadata": {},
   "outputs": [],
   "source": [
    "class Node:\n",
    "    def __init__(self,data = None, next_node = None):\n",
    "        self.data = data\n",
    "        self.next = next_node"
   ]
  },
  {
   "cell_type": "code",
   "execution_count": null,
   "id": "021f872c",
   "metadata": {},
   "outputs": [],
   "source": [
    "class Linkedlist:\n",
    "    def __init__(self):\n",
    "        self.head = None\n",
    "    def delete(self,node):\n",
    "        node.next = node.next.next\n",
    "    def insert(self,data): #inserting an element into a linked list.\n",
    "        newNode = Node(Data)\n",
    "        if (self.head): #i.e. if the linked list has any elements at all.\n",
    "            current = self.head\n",
    "            while(current.next):\n",
    "                current = current.next\n",
    "            current.next = NewNode\n",
    "            current.next.next = None\n",
    "        else:\n",
    "            self.head = newNode"
   ]
  },
  {
   "cell_type": "code",
   "execution_count": null,
   "id": "5853d019",
   "metadata": {},
   "outputs": [],
   "source": [
    "class hash_map:\n",
    "    def __init__(self):\n",
    "        self.database = [None]*128\n",
    "    def get_index(self,key,value):\n",
    "        hashed_key = ord(key)\n",
    "        return hashed_key\n",
    "    def insert(self,key,value):\n",
    "        print(isinstance(key,int))\n",
    "        index = self.get_index(self,key)\n",
    "        old_value = self.database[idx]\n",
    "        if not old_value:\n",
    "            self.database[idx] = key,value\n",
    "        else:\n",
    "            self.database[idx] = old_value + value\n",
    "    def list_all(self):\n",
    "        return [storage[0] for storage in self.database if kv is not None]\n",
    "    "
   ]
  },
  {
   "cell_type": "code",
   "execution_count": null,
   "id": "00088dab",
   "metadata": {},
   "outputs": [],
   "source": [
    "def remove_dups(array):\n",
    "    \n",
    "    found_values = hash_map()\n",
    "    new_linked_list = Linkedlist()\n",
    "    for i,elements in enumerate(array):\n",
    "        print(isinstance(elements,int))\n",
    "        found_values.insert(elements,i)\n",
    "        new_linked_list.insert(elements)\n",
    "    \n",
    "        \n",
    "        \n",
    "    found_values.list_all\n",
    "    print(new_linked_list)"
   ]
  },
  {
   "cell_type": "code",
   "execution_count": null,
   "id": "47cd0b7a",
   "metadata": {},
   "outputs": [],
   "source": [
    "remove_dups([1,2,3,4,5,1])"
   ]
  },
  {
   "cell_type": "code",
   "execution_count": null,
   "id": "7183357f",
   "metadata": {},
   "outputs": [],
   "source": [
    "a = hash_map()\n",
    "a.insert(1,0)"
   ]
  }
 ],
 "metadata": {
  "kernelspec": {
   "display_name": "Python 3 (ipykernel)",
   "language": "python",
   "name": "python3"
  },
  "language_info": {
   "codemirror_mode": {
    "name": "ipython",
    "version": 3
   },
   "file_extension": ".py",
   "mimetype": "text/x-python",
   "name": "python",
   "nbconvert_exporter": "python",
   "pygments_lexer": "ipython3",
   "version": "3.8.3"
  }
 },
 "nbformat": 4,
 "nbformat_minor": 5
}
