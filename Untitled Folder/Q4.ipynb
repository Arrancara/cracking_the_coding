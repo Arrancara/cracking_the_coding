{
 "cells": [
  {
   "cell_type": "markdown",
   "id": "b1aef3dd",
   "metadata": {},
   "source": [
    "### Q4\n",
    "Partition: Write a code to partition a linked list around a value x, such that all ndoes less than x comes before all nodes greater than or equal to x. If x is contained within the list, then the values of x only need to be after the elemnts less than x. "
   ]
  },
  {
   "cell_type": "markdown",
   "id": "7bb1b2f1",
   "metadata": {},
   "source": [
    "To solve this problem, we can traverse the entire linked list and check what values each node hold and compare it to the current nodes value, we can then append it to two seperate lists, greater than and less than, merging the two lists together at the end. And then generating a new linked list from the merged nodes.\n",
    "Time complexity is of $O(2N)$ as we go throgh the list once and add N-1 elements to the second list.\n",
    "so generally can be thought of as $O(N)$"
   ]
  },
  {
   "cell_type": "code",
   "execution_count": 1,
   "id": "3457ff77",
   "metadata": {},
   "outputs": [],
   "source": [
    "class Node:\n",
    "    def __init__(self,data = None, next_node = None):\n",
    "        self.data = data\n",
    "        self.next = next_node\n",
    "    "
   ]
  },
  {
   "cell_type": "code",
   "execution_count": 12,
   "id": "3129d55d",
   "metadata": {},
   "outputs": [],
   "source": [
    "class Linkedlist:\n",
    "    def __init__(self):\n",
    "        self.head = None\n",
    "    def delete(self,node):\n",
    "        node.data = node.next.data\n",
    "        node.next = node.next.next\n",
    "        \n",
    "    def insert(self,data): #inserting an element into a linked list.\n",
    "        newNode = Node(data)\n",
    "        if self.head is None: #i.e. if the linked list has no elements at all.\n",
    "            self.head = newNode\n",
    "            return\n",
    "           \n",
    "        else:\n",
    "            current = self.head\n",
    "            while (current.next):\n",
    "                current = current.next\n",
    "            current.next = newNode\n",
    "            return\n",
    "    def find_node(self,data):\n",
    "        start = self.head\n",
    "        while start.data != data:\n",
    "            start = start.next\n",
    "        \n",
    "\n",
    "        return start\n",
    "    def printList(self):\n",
    "        temp = self.head\n",
    "        temp_array = []\n",
    "        while(temp):\n",
    "            temp_array.append(temp.data)\n",
    "            temp = temp.next\n",
    "        return \"[\" + \" \".join(temp_array) + \"]\"\n",
    "    \n",
    "    def partition(self,node):\n",
    "        greater_than = []\n",
    "        less_than = []\n",
    "        \n",
    "        "
   ]
  },
  {
   "cell_type": "code",
   "execution_count": 13,
   "id": "2d318899",
   "metadata": {},
   "outputs": [],
   "source": [
    "def partition(array,element):\n",
    "    linked_list = Linkedlist()\n",
    "    \n",
    "    for elements in (array):        \n",
    "        linked_list.insert(elements)\n",
    "     \n",
    "    node_found = linked_list.find_node(element)\n",
    "    print(node_found.data)"
   ]
  },
  {
   "cell_type": "code",
   "execution_count": 14,
   "id": "ef3f37dc",
   "metadata": {},
   "outputs": [
    {
     "name": "stdout",
     "output_type": "stream",
     "text": [
      "5\n"
     ]
    }
   ],
   "source": [
    "partition([1,2,3,4,5],5)"
   ]
  }
 ],
 "metadata": {
  "kernelspec": {
   "display_name": "Python 3 (ipykernel)",
   "language": "python",
   "name": "python3"
  },
  "language_info": {
   "codemirror_mode": {
    "name": "ipython",
    "version": 3
   },
   "file_extension": ".py",
   "mimetype": "text/x-python",
   "name": "python",
   "nbconvert_exporter": "python",
   "pygments_lexer": "ipython3",
   "version": "3.8.3"
  }
 },
 "nbformat": 4,
 "nbformat_minor": 5
}
