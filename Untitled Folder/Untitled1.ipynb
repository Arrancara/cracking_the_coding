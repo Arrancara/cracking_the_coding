{
 "cells": [
  {
   "cell_type": "markdown",
   "id": "30aa7490",
   "metadata": {},
   "source": [
    "### Question 2"
   ]
  },
  {
   "cell_type": "markdown",
   "id": "885ec69e",
   "metadata": {},
   "source": [
    "Return Kth to Last:\n",
    "Implement an algorithm to find the kth to last element of a singly linked list."
   ]
  },
  {
   "cell_type": "code",
   "execution_count": 3,
   "id": "47fccf85",
   "metadata": {},
   "outputs": [],
   "source": [
    "class Node():\n",
    "    def __init__(self,data = None, next_node = None key = 0):\n",
    "        self.data = data\n",
    "        self.next = next_node\n",
    "        self.parent = parent_node\n",
    "        self.key = key"
   ]
  },
  {
   "cell_type": "code",
   "execution_count": 2,
   "id": "274c020d",
   "metadata": {},
   "outputs": [],
   "source": [
    "\n",
    "class Linkedlist:\n",
    "    def __init__(self):\n",
    "        self.head = None\n",
    "    def delete(self,node):\n",
    "        node.next = node.next.next\n",
    "    def insert(self,data): #inserting an element into a linked list.\n",
    "        newNode = Node(Data)\n",
    "        if (self.head): #i.e. if the linked list has any elements at all.\n",
    "            current = self.head\n",
    "            while(current.next):\n",
    "                current = current.next\n",
    "            current.next = NewNode\n",
    "            current.next.next = None\n",
    "        else:\n",
    "            self.head = newNode\n",
    "    def search(self,data,index):\n",
    "        \n",
    "        #Base case:\n",
    "        if (node.key)"
   ]
  },
  {
   "cell_type": "code",
   "execution_count": null,
   "id": "5941dbcc",
   "metadata": {},
   "outputs": [],
   "source": []
  },
  {
   "cell_type": "code",
   "execution_count": null,
   "id": "87cf6bfe",
   "metadata": {},
   "outputs": [],
   "source": [
    "def return_kth_to_last(array,k):\n",
    "    \n",
    "    n = len(array)\n",
    "    \n",
    "    necessary_element = n - k - 1\n",
    "    if necessary_element < n:\n",
    "        return \"Element cannot be found as the kth element exceeds the length of the list.\"\n",
    "    \n",
    "    linked_list = LinkedList()\n",
    "    \n",
    "    for i, elements in enumerate(array):\n",
    "        temp_node = Node()\n",
    "        temp_node_next = Node()\n",
    "        temp_node_next\n",
    "        if i == 0:\n",
    "            temp_node.previous = None\n",
    "            temp_node.next = \n",
    "        "
   ]
  }
 ],
 "metadata": {
  "kernelspec": {
   "display_name": "Python 3 (ipykernel)",
   "language": "python",
   "name": "python3"
  },
  "language_info": {
   "codemirror_mode": {
    "name": "ipython",
    "version": 3
   },
   "file_extension": ".py",
   "mimetype": "text/x-python",
   "name": "python",
   "nbconvert_exporter": "python",
   "pygments_lexer": "ipython3",
   "version": "3.8.3"
  }
 },
 "nbformat": 4,
 "nbformat_minor": 5
}
