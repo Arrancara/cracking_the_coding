{
 "cells": [
  {
   "cell_type": "markdown",
   "id": "30aa7490",
   "metadata": {},
   "source": [
    "### Question 2"
   ]
  },
  {
   "cell_type": "markdown",
   "id": "885ec69e",
   "metadata": {},
   "source": [
    "Return Kth to Last:\n",
    "Implement an algorithm to find the kth to last element of a singly linked list."
   ]
  },
  {
   "cell_type": "code",
   "execution_count": null,
   "id": "47fccf85",
   "metadata": {},
   "outputs": [],
   "source": [
    "class Node():\n",
    "    def __init__(self,data = None,next_node = None):\n",
    "        self.data = data\n",
    "        self.next = next_node\n",
    "        "
   ]
  },
  {
   "cell_type": "code",
   "execution_count": null,
   "id": "274c020d",
   "metadata": {},
   "outputs": [],
   "source": [
    "\n",
    "class Linkedlist:\n",
    "    def __init__(self):\n",
    "        self.head = None\n",
    "    def delete(self,node):\n",
    "        node.next = node.next.next\n",
    "        \n",
    "    def insert(self,data): #inserting an element into a linked list.\n",
    "        newNode = Node(data)\n",
    "        if self.head is None: #i.e. if the linked list has no elements at all.\n",
    "            self.head = newNode\n",
    "            return\n",
    "           \n",
    "        else:\n",
    "            current = self.head\n",
    "            while (current.next):\n",
    "                current = current.next\n",
    "            current.next = newNode\n",
    "            return\n",
    "    def return_kth_to_last_yes(self,k):\n",
    "        pointer_1 = self.head\n",
    "        pointer_2 = self.head\n",
    "        length = 0 \n",
    "        second_length = 0\n",
    "        current = pointer_1\n",
    "        while current.next != None:\n",
    "            pointer_2 = current.next\n",
    "            current = current.next\n",
    "            length += 1\n",
    "        current = self.head\n",
    "        for index in range(length-k+1):\n",
    "            current = current.next\n",
    "        return current.data\n",
    "    \n",
    "    def return_kth_to_last_optimal(self,k):\n",
    "        pointer_1 = self.head\n",
    "        pointer_2 = self.head\n",
    "        #gets to the kth index\n",
    "        for index in range(k):\n",
    "           \n",
    "            if not pointer_2:\n",
    "                return None\n",
    "            pointer_2 = pointer_2.next\n",
    "            \n",
    "        while pointer_2:\n",
    "            pointer_1 = pointer_1.next\n",
    "            \n",
    "            pointer_2 = pointer_2.next\n",
    "            \n",
    "        return pointer_1.data\n",
    "            \n",
    "        "
   ]
  },
  {
   "cell_type": "code",
   "execution_count": null,
   "id": "5941dbcc",
   "metadata": {},
   "outputs": [],
   "source": []
  },
  {
   "cell_type": "code",
   "execution_count": null,
   "id": "87cf6bfe",
   "metadata": {},
   "outputs": [],
   "source": [
    "def return_kth_to_last(array,k):\n",
    "    \n",
    "    n = len(array)\n",
    "    \n",
    "    necessary_element = n - k - 1\n",
    "    if necessary_element > n:\n",
    "        return \"Element cannot be found as the kth element exceeds the length of the list.\"\n",
    "    \n",
    "    linked_list = Linkedlist()\n",
    "    \n",
    "    for elements in (array):        \n",
    "        linked_list.insert(elements)\n",
    "\n",
    "    \n",
    "    linked_list.return_kth_to_last_yes(k)\n",
    "    return linked_list.return_kth_to_last_optimal(k)"
   ]
  },
  {
   "cell_type": "code",
   "execution_count": null,
   "id": "46623943",
   "metadata": {
    "scrolled": true
   },
   "outputs": [],
   "source": [
    "print(\"The element is: \",return_kth_to_last(([0,1,2,3,4,6]),2))\n"
   ]
  }
 ],
 "metadata": {
  "kernelspec": {
   "display_name": "Python 3 (ipykernel)",
   "language": "python",
   "name": "python3"
  },
  "language_info": {
   "codemirror_mode": {
    "name": "ipython",
    "version": 3
   },
   "file_extension": ".py",
   "mimetype": "text/x-python",
   "name": "python",
   "nbconvert_exporter": "python",
   "pygments_lexer": "ipython3",
   "version": "3.8.3"
  }
 },
 "nbformat": 4,
 "nbformat_minor": 5
}
