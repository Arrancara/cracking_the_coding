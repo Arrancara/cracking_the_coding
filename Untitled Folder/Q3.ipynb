{
 "cells": [
  {
   "cell_type": "markdown",
   "id": "8052e379",
   "metadata": {},
   "source": [
    "### Delete Middle Node\n",
    "Q3)\n",
    "Implement an algorithm to delete a node in the middle(i.e., any node but the first and last node, not ncessarily the exact middle of a singly linked list, given only acess to that node)."
   ]
  },
  {
   "cell_type": "code",
   "execution_count": 1,
   "id": "0234ec12",
   "metadata": {},
   "outputs": [],
   "source": [
    "class Node():\n",
    "    def __init__(self,data = None,next_node = None):\n",
    "        self.data = data\n",
    "        self.next = next_node"
   ]
  },
  {
   "cell_type": "code",
   "execution_count": 39,
   "id": "4eb7b8b4",
   "metadata": {},
   "outputs": [],
   "source": [
    "class Linkedlist:\n",
    "    def __init__(self):\n",
    "        self.head = None\n",
    "    def delete(self,node):\n",
    "        node.data = node.next.data\n",
    "        node.next = node.next.next\n",
    "        \n",
    "    def insert(self,data): #inserting an element into a linked list.\n",
    "        newNode = Node(data)\n",
    "        if self.head is None: #i.e. if the linked list has no elements at all.\n",
    "            self.head = newNode\n",
    "            return\n",
    "           \n",
    "        else:\n",
    "            current = self.head\n",
    "            while (current.next):\n",
    "                current = current.next\n",
    "            current.next = newNode\n",
    "            return\n",
    "    def find_node(self,data):\n",
    "        start = self.head\n",
    "        while start.data != data:\n",
    "            start = start.next\n",
    "        \n",
    "\n",
    "        return start\n",
    "    def printList(self):\n",
    "        temp = self.head\n",
    "        temp_array = []\n",
    "        while(temp):\n",
    "            temp_array.append(temp.data)\n",
    "            temp = temp.next\n",
    "        return \"[\" + \" \".join(temp_array) + \"]\""
   ]
  },
  {
   "cell_type": "code",
   "execution_count": 30,
   "id": "68930ce0",
   "metadata": {},
   "outputs": [],
   "source": [
    "def delete_middle_node(array,element):\n",
    "    \n",
    "    linked_list = Linkedlist()\n",
    "    \n",
    "    for elements in (array):        \n",
    "        linked_list.insert(elements)\n",
    "    starting_node = linked_list.find_node(element)\n",
    "    \n",
    "\n",
    "    linked_list.delete(starting_node)\n",
    "    return linked_list.printList()"
   ]
  },
  {
   "cell_type": "code",
   "execution_count": 40,
   "id": "ca693824",
   "metadata": {},
   "outputs": [
    {
     "name": "stdout",
     "output_type": "stream",
     "text": [
      "[a b d e f]\n"
     ]
    }
   ],
   "source": [
    "print(delete_middle_node([\"a\",\"b\",\"c\",\"d\",\"e\",\"f\"],\"c\"))"
   ]
  }
 ],
 "metadata": {
  "kernelspec": {
   "display_name": "Python 3 (ipykernel)",
   "language": "python",
   "name": "python3"
  },
  "language_info": {
   "codemirror_mode": {
    "name": "ipython",
    "version": 3
   },
   "file_extension": ".py",
   "mimetype": "text/x-python",
   "name": "python",
   "nbconvert_exporter": "python",
   "pygments_lexer": "ipython3",
   "version": "3.8.3"
  }
 },
 "nbformat": 4,
 "nbformat_minor": 5
}
