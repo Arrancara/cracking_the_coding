{
 "cells": [
  {
   "cell_type": "code",
   "execution_count": null,
   "id": "7307fbac",
   "metadata": {},
   "outputs": [],
   "source": []
  },
  {
   "cell_type": "markdown",
   "id": "dfd1e974",
   "metadata": {},
   "source": [
    "#Defining the Stack Class"
   ]
  },
  {
   "cell_type": "code",
   "execution_count": 21,
   "id": "d2bb56f4",
   "metadata": {},
   "outputs": [],
   "source": [
    "class Node:\n",
    "    \n",
    "    def __init__(self, data = None, next_node = None):\n",
    "        self.data = data\n",
    "        self.next = next_node\n",
    "        "
   ]
  },
  {
   "cell_type": "code",
   "execution_count": 22,
   "id": "e2a16751",
   "metadata": {},
   "outputs": [],
   "source": [
    "class Stack:\n",
    "    def __init__(self):\n",
    "        self.items = []\n",
    "\n",
    "    def is_empty(self):\n",
    "        #check if its empty\n",
    "        return len(self.items) == 0\n",
    "\n",
    "    def push(self, item):\n",
    "        self.items.append(item)\n",
    "    \n",
    "    #returns the last value in an array or the last thing to be added\n",
    "    def pop(self):\n",
    "        return self.items.pop()\n",
    "    \n",
    "    #returns the first value of the array \n",
    "    def peek(self):\n",
    "        if self.items:\n",
    "            return self.items[-1]\n",
    "        return None\n",
    "    \n",
    "    #finds the length of an array\n",
    "    def __len__(self):\n",
    "        # in python the `len` function is preferred to `size` methods\n",
    "        return len(self.items)\n",
    "    \n",
    "    #allows us to check if the stack is a conditional\n",
    "    def __bool__(self):\n",
    "        # lets us use the stack as a conditional\n",
    "        return bool(self.items)"
   ]
  },
  {
   "cell_type": "code",
   "execution_count": 38,
   "id": "7b360ec7",
   "metadata": {},
   "outputs": [],
   "source": [
    "class node_stack():\n",
    "    def __init__(self):\n",
    "        self.head = None\n",
    "        \n",
    "    def isempty(self):\n",
    "        if self.head == None:\n",
    "            return True\n",
    "        else:\n",
    "            return False\n",
    "    \n",
    "    #add a node to the start of the stack.\n",
    "    def push(self,data):\n",
    "        new_node = Node(data)\n",
    "        if self.head is None:\n",
    "            self.head = new_node\n",
    "            return\n",
    "        else:\n",
    "            new_node.next = self.head\n",
    "            self.head = new_node\n",
    "            \n",
    "    def pop(self,data):\n",
    "        if self.is_empty():\n",
    "            return None\n",
    "        else:\n",
    "            #Removes the current node from the top and displays the data\n",
    "            value_of_node = self.head.data\n",
    "            self.head = self.head.next\n",
    "            return value_of_node\n",
    "            \n",
    "        return current.data\n",
    "    \n",
    "    #Finds the data associated with the first node.\n",
    "    def peek(self):\n",
    "        \n",
    "        if self.isempty():\n",
    "            return None\n",
    "        else:\n",
    "            return self.head.data\n",
    "    \n"
   ]
  },
  {
   "cell_type": "code",
   "execution_count": 27,
   "id": "0a3bc3c5",
   "metadata": {},
   "outputs": [],
   "source": [
    "stack1 = Stack()\n",
    "stack1.push(11)\n",
    "stack1.push(22)\n",
    "stack1.push(33)\n",
    "stack1.push(44)"
   ]
  },
  {
   "cell_type": "code",
   "execution_count": 34,
   "id": "2720d499",
   "metadata": {},
   "outputs": [],
   "source": [
    "#Input check command here.\n"
   ]
  },
  {
   "cell_type": "code",
   "execution_count": 40,
   "id": "14869fc2",
   "metadata": {},
   "outputs": [],
   "source": [
    "stack2 = node_stack()\n",
    "stack2.push(11)\n",
    "stack2.push(22)\n",
    "stack2.push(33)\n",
    "stack2.push(44)\n"
   ]
  },
  {
   "cell_type": "code",
   "execution_count": null,
   "id": "6dd519f2",
   "metadata": {},
   "outputs": [],
   "source": []
  }
 ],
 "metadata": {
  "kernelspec": {
   "display_name": "Python 3 (ipykernel)",
   "language": "python",
   "name": "python3"
  },
  "language_info": {
   "codemirror_mode": {
    "name": "ipython",
    "version": 3
   },
   "file_extension": ".py",
   "mimetype": "text/x-python",
   "name": "python",
   "nbconvert_exporter": "python",
   "pygments_lexer": "ipython3",
   "version": "3.8.3"
  }
 },
 "nbformat": 4,
 "nbformat_minor": 5
}
