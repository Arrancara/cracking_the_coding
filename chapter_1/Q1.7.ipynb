{
 "cells": [
  {
   "cell_type": "markdown",
   "id": "1124d511",
   "metadata": {},
   "source": [
    "### Question 7\n",
    "\n",
    "Rotate Matrix: Given an image represented by an NxN matrix, where each pixel in the image is 4 byte(??) write a mtehod to rotate the image by 90 degrees. Can you do this in place?\n"
   ]
  },
  {
   "cell_type": "code",
   "execution_count": 39,
   "id": "175d1d90",
   "metadata": {},
   "outputs": [],
   "source": [
    "def rotate_matrix_mathematical(matrix):\n",
    "    n = len(matrix[0])\n",
    "    new_matrix = [[None]*n for _ in range(n)]\n",
    "    \n",
    "    for index in range(n):\n",
    "\n",
    "        row = matrix[index]\n",
    "        #flips the row\n",
    "        row = layer[::-1]\n",
    "        #transposes the matrix\n",
    "        for i in range(n):\n",
    "            new_matrix[i][index] = row[i]\n",
    "    #returns a rotated matrix that is rotated anticlockwise 90-degrees.\n",
    "    return new_matrix"
   ]
  },
  {
   "cell_type": "code",
   "execution_count": 37,
   "id": "a414c4ad",
   "metadata": {},
   "outputs": [
    {
     "data": {
      "text/plain": [
       "[[3, 3, 3], [0, 2, 2], [3, 1, 1]]"
      ]
     },
     "execution_count": 37,
     "metadata": {},
     "output_type": "execute_result"
    }
   ],
   "source": [
    "rotate_matrix([[3,0,3],[1,2,3],[1,2,3]])"
   ]
  }
 ],
 "metadata": {
  "kernelspec": {
   "display_name": "Python 3 (ipykernel)",
   "language": "python",
   "name": "python3"
  },
  "language_info": {
   "codemirror_mode": {
    "name": "ipython",
    "version": 3
   },
   "file_extension": ".py",
   "mimetype": "text/x-python",
   "name": "python",
   "nbconvert_exporter": "python",
   "pygments_lexer": "ipython3",
   "version": "3.8.3"
  }
 },
 "nbformat": 4,
 "nbformat_minor": 5
}
