{
 "cells": [
  {
   "cell_type": "markdown",
   "id": "d5d5ca6f",
   "metadata": {},
   "source": [
    "### Question 3\n",
    "1.4 Palindrome Permutation: Given a string, write a function to check if it is a permutation of a palindrome. A palindrome is a word or phrase that is the same forwards and backwards. A permutation\n",
    "is a rearrangement of letters. The palindrome does not need to be limited to just dictionary words.\n",
    "EXAMPLE\n",
    "Input: Tact Coa\n",
    "Output: True (permutations: \"taco cat\". \"atco cta\". etc.)"
   ]
  },
  {
   "cell_type": "markdown",
   "id": "9fe617a3",
   "metadata": {},
   "source": [
    "To solve this problem, we can create a hashmap that contains the the number of times each letter is present, if the length of the string is even, we need each of the letters to be even for it to be a palendrome.If its odd then we can get away with 1 odd and rest even"
   ]
  },
  {
   "cell_type": "markdown",
   "id": "d6c9a05c",
   "metadata": {},
   "source": [
    "Cases:\n",
    "Normal case where its a permutation of palindrome. Returns True\n",
    "Not permutation of palindrome. Returns False\n",
    "String with one element, which returns True.\n",
    "Empty string. Returns False\n",
    "String with 1000 characters. \n",
    "String with digits and numbers. Retruns True if its palindrome."
   ]
  },
  {
   "cell_type": "code",
   "execution_count": 45,
   "id": "a7dc8cd8",
   "metadata": {},
   "outputs": [],
   "source": [
    "def palindrome_permutation(string):\n",
    "    \n",
    "    #Assuming we are using Ascii or 128 unique characters, we can also do it with a dictionary where we just check for the dictionary.\n",
    "    new_array = [0]*128\n",
    "    \n",
    "    if not string:\n",
    "        return False\n",
    "    string = string.replace(\" \", \"\")\n",
    "    for chars in string:\n",
    "        index  = ord(chars)\n",
    "        new_array[index] += 1\n",
    "    \n",
    "    #if the length is even need all of the values of the new array to be even.\n",
    "    if len(string)%2 == 0:\n",
    "        for vals in new_array:\n",
    "            checker = vals%2\n",
    "            if checker != 0:\n",
    "                return False\n",
    "    else:\n",
    "        counter = 0\n",
    "        for vals in new_array:\n",
    "            checker = vals%2\n",
    "            if checker != 0:\n",
    "                counter += 1\n",
    "            if counter >1:\n",
    "                return False\n",
    "    return True\n",
    "        "
   ]
  },
  {
   "cell_type": "code",
   "execution_count": 57,
   "id": "95acd843",
   "metadata": {},
   "outputs": [
    {
     "data": {
      "text/plain": [
       "False"
      ]
     },
     "execution_count": 57,
     "metadata": {},
     "output_type": "execute_result"
    }
   ],
   "source": [
    "palindrome_permutation(\"\") #Insert check here."
   ]
  },
  {
   "cell_type": "markdown",
   "id": "db215c44",
   "metadata": {},
   "source": [
    "The time complexity of this algorithm would be, $O(n)$ for going through the list once and updating the new array. And we also add that we need to go through the new_array once so that would add another 128 computations. \n",
    "So the overall time complexity would be $O(N+128)$ or $O(N)$.\n",
    "The space complexity would be $O(128)$ for storing the new array.\n",
    "\n",
    "Also there is time complexity for adding and updating the values of new_array but as we are only taking the index and replacing the value, this is around $O(1)$ so $O(N)$ still dominates."
   ]
  }
 ],
 "metadata": {
  "kernelspec": {
   "display_name": "Python 3 (ipykernel)",
   "language": "python",
   "name": "python3"
  },
  "language_info": {
   "codemirror_mode": {
    "name": "ipython",
    "version": 3
   },
   "file_extension": ".py",
   "mimetype": "text/x-python",
   "name": "python",
   "nbconvert_exporter": "python",
   "pygments_lexer": "ipython3",
   "version": "3.8.3"
  }
 },
 "nbformat": 4,
 "nbformat_minor": 5
}
