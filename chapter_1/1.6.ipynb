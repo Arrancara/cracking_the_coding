{
 "cells": [
  {
   "cell_type": "markdown",
   "id": "c186d495",
   "metadata": {},
   "source": [
    "### Question 1.6\n",
    "Implement a method to perform basic string compression using the counts of repeated characters."
   ]
  },
  {
   "cell_type": "markdown",
   "id": "302193fe",
   "metadata": {},
   "source": [
    "We start off by creating a new list so we keep the original list intact."
   ]
  },
  {
   "cell_type": "code",
   "execution_count": 20,
   "id": "a8476039",
   "metadata": {},
   "outputs": [],
   "source": [
    "def string_compression(string):\n",
    "    \n",
    "    new_string = list(string)\n",
    "    compressed_list = \"\"\n",
    "    counter = 1\n",
    "    \n",
    "    for index in range(len(string)):\n",
    "        \n",
    "        if index+1 == len(string):\n",
    "            compressed_list += new_string[index] + str(counter)\n",
    "        else:\n",
    "            if new_string[index] == new_string[index+1]:\n",
    "                counter += 1\n",
    "            elif new_string[index] != new_string[index+1]:\n",
    "                compressed_list += new_string[index]+str(counter)\n",
    "                counter = 1\n",
    "    \n",
    "    \n",
    "    if not( len(compressed_list) < len(string)):\n",
    "        return string\n",
    "    \n",
    "    return compressed_list\n",
    "        "
   ]
  },
  {
   "cell_type": "code",
   "execution_count": null,
   "id": "c8a8766f",
   "metadata": {},
   "outputs": [],
   "source": []
  }
 ],
 "metadata": {
  "kernelspec": {
   "display_name": "Python 3 (ipykernel)",
   "language": "python",
   "name": "python3"
  },
  "language_info": {
   "codemirror_mode": {
    "name": "ipython",
    "version": 3
   },
   "file_extension": ".py",
   "mimetype": "text/x-python",
   "name": "python",
   "nbconvert_exporter": "python",
   "pygments_lexer": "ipython3",
   "version": "3.8.3"
  }
 },
 "nbformat": 4,
 "nbformat_minor": 5
}
