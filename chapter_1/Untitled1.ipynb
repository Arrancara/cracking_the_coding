{
 "cells": [
  {
   "cell_type": "markdown",
   "id": "d46b3cbd",
   "metadata": {},
   "source": [
    "### Question 3\n",
    "1.3 URLify: Write a method to replace all spaces in a string with \"%20\": You may assume that the stringhas sufficient space at the end to hold the additional characters, and that you are given the \"true\"length of the string. \n",
    "EXAMPLE\n",
    "Input: \"Mr John Smith JJ, 13\n",
    "Output: \"Mr%2eJohn%2eSmith\" \n"
   ]
  },
  {
   "cell_type": "code",
   "execution_count": 18,
   "id": "ab261fcd",
   "metadata": {},
   "outputs": [],
   "source": [
    "import re\n",
    "def URLify(string):\n",
    "    return (string.replace(\" \",\"%20\"))\n",
    "    "
   ]
  },
  {
   "cell_type": "code",
   "execution_count": 19,
   "id": "62589f21",
   "metadata": {},
   "outputs": [
    {
     "name": "stdout",
     "output_type": "stream",
     "text": [
      "Mr%20John%20Smith\n"
     ]
    }
   ],
   "source": [
    "URLify(\"Mr John Smith\")\n",
    "print(URLify(\"Mr John Smith\"))"
   ]
  }
 ],
 "metadata": {
  "kernelspec": {
   "display_name": "Python 3 (ipykernel)",
   "language": "python",
   "name": "python3"
  },
  "language_info": {
   "codemirror_mode": {
    "name": "ipython",
    "version": 3
   },
   "file_extension": ".py",
   "mimetype": "text/x-python",
   "name": "python",
   "nbconvert_exporter": "python",
   "pygments_lexer": "ipython3",
   "version": "3.8.3"
  }
 },
 "nbformat": 4,
 "nbformat_minor": 5
}
