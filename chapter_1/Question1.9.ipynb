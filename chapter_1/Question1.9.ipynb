{
 "cells": [
  {
   "cell_type": "markdown",
   "id": "95599137",
   "metadata": {},
   "source": [
    "### String Rotation.\n",
    "Assume you have a method isSubstring which checks if one words is a substring of another. Given two strings s1 and s2. write a code to check if s2 is a rotation of s1 using only one call to isSubstring/"
   ]
  },
  {
   "cell_type": "code",
   "execution_count": 29,
   "id": "a3bb580e",
   "metadata": {},
   "outputs": [],
   "source": [
    "def isSubstring(s1,s2):\n",
    "    counter = 0\n",
    "    if len(s1) != len(s2):\n",
    "        return False\n",
    "    \n",
    "    for i in range(len(s1)):\n",
    "        if s1[0] == s2[i]:\n",
    "            counter = i\n",
    "    new_list = s2[counter:] + s2[:counter]\n",
    "    \n",
    "    if new_list != s1:\n",
    "        return False\n",
    "    return True"
   ]
  },
  {
   "cell_type": "code",
   "execution_count": 30,
   "id": "560d854e",
   "metadata": {},
   "outputs": [
    {
     "name": "stdout",
     "output_type": "stream",
     "text": [
      "True\n"
     ]
    }
   ],
   "source": [
    "print(isSubstring(\"waterbottle\", \"erbottlewat\"))"
   ]
  }
 ],
 "metadata": {
  "kernelspec": {
   "display_name": "Python 3 (ipykernel)",
   "language": "python",
   "name": "python3"
  },
  "language_info": {
   "codemirror_mode": {
    "name": "ipython",
    "version": 3
   },
   "file_extension": ".py",
   "mimetype": "text/x-python",
   "name": "python",
   "nbconvert_exporter": "python",
   "pygments_lexer": "ipython3",
   "version": "3.8.3"
  }
 },
 "nbformat": 4,
 "nbformat_minor": 5
}
