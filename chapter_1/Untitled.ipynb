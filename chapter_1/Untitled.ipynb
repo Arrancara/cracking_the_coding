{
 "cells": [
  {
   "cell_type": "markdown",
   "id": "f28f2fd5",
   "metadata": {},
   "source": [
    "CHAPTER 1\n",
    "\n",
    "Hashmaps"
   ]
  },
  {
   "cell_type": "markdown",
   "id": "01c1dcb2",
   "metadata": {},
   "source": [
    "QUESTION 1"
   ]
  },
  {
   "cell_type": "markdown",
   "id": "093f5a28",
   "metadata": {},
   "source": [
    "Is Unique: Implement an algorithm to determine if a string has all unique characters. What if you\n",
    "cannot use additional data structures?"
   ]
  },
  {
   "cell_type": "code",
   "execution_count": 218,
   "id": "dc3e2bd9",
   "metadata": {},
   "outputs": [],
   "source": [
    "def get_index(data_list,character):\n",
    "    #Variable to store the result of the result.\n",
    "    idx = ord(character)%len((data_list))\n",
    "    return idx"
   ]
  },
  {
   "cell_type": "code",
   "execution_count": 219,
   "id": "182dc809",
   "metadata": {},
   "outputs": [],
   "source": [
    "class HashTable:\n",
    "    def __init__ (self,max_size):\n",
    "        self.data_list = [None]*max_size\n",
    "    \n",
    "    def insert(self,key):\n",
    "        idx = get_index(self.data_list, key)\n",
    "        \n",
    "        self.data_list[idx] = key\n",
    "    def find(self,key):\n",
    "        idx = get_index(self.data_list,key)\n",
    "        kv = self.data_list[idx]\n",
    "        if kv is None:\n",
    "            return False\n",
    "        else:\n",
    "            value = kv\n",
    "            return True\n",
    "    def update(self,key):\n",
    "        idx = get_index(self.data_list,key)\n",
    "        self.data_list[idx] = key"
   ]
  },
  {
   "cell_type": "code",
   "execution_count": null,
   "id": "ba621039",
   "metadata": {},
   "outputs": [],
   "source": []
  },
  {
   "cell_type": "code",
   "execution_count": 221,
   "id": "346984c4",
   "metadata": {},
   "outputs": [],
   "source": [
    "def is_unique(string):\n",
    "    size = len(string)\n",
    "    print(string)\n",
    "    basic_hash_table = HashTable((size))\n",
    "\n",
    "    for index in range(size):\n",
    "        if index == size-1: #Have to be careful as there is a high chance that for small strings, we will get the same\n",
    "                            #hashing index.\n",
    "            if not basic_hash_table.find(string[index]):\n",
    "                return True\n",
    "            \n",
    "        if not basic_hash_table.find(string[index]):\n",
    "            basic_hash_table.insert(string[index])\n",
    "        else:\n",
    "            return False\n",
    "    return True"
   ]
  },
  {
   "cell_type": "code",
   "execution_count": 227,
   "id": "2660de0e",
   "metadata": {},
   "outputs": [
    {
     "name": "stdout",
     "output_type": "stream",
     "text": [
      "wqepo12ioe1opek1ope1k2e\n"
     ]
    },
    {
     "data": {
      "text/plain": [
       "False"
      ]
     },
     "execution_count": 227,
     "metadata": {},
     "output_type": "execute_result"
    }
   ],
   "source": [
    "is_unique(\"wqepo12ioe1opek1ope1k2e\")\n",
    "\n"
   ]
  },
  {
   "cell_type": "code",
   "execution_count": 14,
   "id": "81bdc77b",
   "metadata": {},
   "outputs": [],
   "source": [
    "def using_ascii(string):\n",
    "    #assuming we are using ASCII where there are 128 unique characters,\n",
    "    #we know that if the length of the string is greater than 128, it cant have all \n",
    "    #uniquer characters.\n",
    "    if len(string) > 128:\n",
    "        return False\n",
    "    \n",
    "    #Now we create an array with 128 elements all set to 0 and itereate over all the elemnts\n",
    "    #and update the values. ord(string) is used to check if its already in place.\n",
    "    \n",
    "    checker_array = [0]*128\n",
    "    \n",
    "    for chars in string:\n",
    "        \n",
    "        if not checker_array[ord(chars)]:\n",
    "            checker_array[ord(chars)] += 1\n",
    "        else:\n",
    "            return False\n",
    "    return True\n",
    "        "
   ]
  },
  {
   "cell_type": "code",
   "execution_count": 15,
   "id": "b16135e4",
   "metadata": {},
   "outputs": [
    {
     "data": {
      "text/plain": [
       "True"
      ]
     },
     "execution_count": 15,
     "metadata": {},
     "output_type": "execute_result"
    }
   ],
   "source": [
    "using_ascii(\"dog\")"
   ]
  },
  {
   "cell_type": "markdown",
   "id": "e37df6be",
   "metadata": {},
   "source": [
    "QUESTION 2."
   ]
  },
  {
   "cell_type": "code",
   "execution_count": null,
   "id": "1bbdc064",
   "metadata": {},
   "outputs": [],
   "source": []
  }
 ],
 "metadata": {
  "kernelspec": {
   "display_name": "Python 3 (ipykernel)",
   "language": "python",
   "name": "python3"
  },
  "language_info": {
   "codemirror_mode": {
    "name": "ipython",
    "version": 3
   },
   "file_extension": ".py",
   "mimetype": "text/x-python",
   "name": "python",
   "nbconvert_exporter": "python",
   "pygments_lexer": "ipython3",
   "version": "3.8.3"
  }
 },
 "nbformat": 4,
 "nbformat_minor": 5
}
