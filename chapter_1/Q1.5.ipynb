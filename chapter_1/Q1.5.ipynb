{
 "cells": [
  {
   "cell_type": "markdown",
   "id": "df24ab6e",
   "metadata": {},
   "source": [
    "### ONE AWAY\n",
    "One Away: There are three types of edits that can be performed on strings: insert a character,\n",
    "remove a character, or replace a character. Given two strings, write a function to check if they are\n",
    "one edit (or zero edits) away.\n",
    "EXAMPLE\n",
    "pale, pIe -> true\n",
    "pales. pale -> true\n",
    "pale. bale -> true\n",
    "pale. bake -> false\n"
   ]
  },
  {
   "cell_type": "markdown",
   "id": "a1c2b003",
   "metadata": {},
   "source": [
    "To solve this problem, we can first compare the lengths of the two strings, if they have a difference of one element then we can simply check their ord(values) for all elements and if the difference between the two is less than 128 then we can simply say that we can add/remove one element.\n",
    "\n",
    "For repalcing the character lets say, bale -> pale. we would check the ascii values of each element. we can create a new array with "
   ]
  },
  {
   "cell_type": "code",
   "execution_count": 7,
   "id": "22c0e967",
   "metadata": {},
   "outputs": [],
   "source": [
    "def one_edit_insert(s1,s2):\n",
    "    edited = False\n",
    "    i,j = 0,0\n",
    "    \n",
    "    while i<len(s1) and j <len(s2): #while we are still dont \n",
    "        if s1[i] != s2[j]: #if we find a index where they arent equal to each other\n",
    "            if edited: #only works if edited is true\n",
    "                return False\n",
    "            edited = True #so we say that we have edited the code once.\n",
    "            j += 1 #increase j index so we basically go back to same number of \n",
    "                    #elements list in the list i.e. we keep the same s2 but move over to next s1\n",
    "                 \n",
    "        else:\n",
    "            i += 1\n",
    "            j += 1\n",
    "        return True"
   ]
  },
  {
   "cell_type": "code",
   "execution_count": 8,
   "id": "972be100",
   "metadata": {},
   "outputs": [],
   "source": [
    "def one_edit_replace(s1,s2):\n",
    "    edited = False\n",
    "    for c1, c2 in zip(s1,s2): #we keep the list in the same place or keep it connected\n",
    "        if c1 != c2: #if we the values arent the same then, we set edited to True\n",
    "            if edited: #so we ignore only one of the elemnts\n",
    "                return False\n",
    "            edited = True\n",
    "        return True\n",
    "    "
   ]
  },
  {
   "cell_type": "code",
   "execution_count": 3,
   "id": "3280e27a",
   "metadata": {},
   "outputs": [],
   "source": [
    "def are_one_edit_different(s1, s2):\n",
    "    \"\"\"Check if a string can converted to another string with a single edit\"\"\"\n",
    "    if len(s1) == len(s2): #can only happen if we replace\n",
    "        return one_edit_replace(s1, s2)\n",
    "    if len(s1) + 1 == len(s2): #only happens through insertion.\n",
    "        return one_edit_insert(s1, s2)\n",
    "    if len(s1) - 1 == len(s2):\n",
    "        return one_edit_insert(s2, s1)  # noqa\n",
    "    return False"
   ]
  },
  {
   "cell_type": "code",
   "execution_count": 5,
   "id": "8518cb2b",
   "metadata": {},
   "outputs": [
    {
     "data": {
      "text/plain": [
       "True"
      ]
     },
     "execution_count": 5,
     "metadata": {},
     "output_type": "execute_result"
    }
   ],
   "source": [
    "are_one_edit_different(\"apple\", \"appl\")"
   ]
  }
 ],
 "metadata": {
  "kernelspec": {
   "display_name": "Python 3 (ipykernel)",
   "language": "python",
   "name": "python3"
  },
  "language_info": {
   "codemirror_mode": {
    "name": "ipython",
    "version": 3
   },
   "file_extension": ".py",
   "mimetype": "text/x-python",
   "name": "python",
   "nbconvert_exporter": "python",
   "pygments_lexer": "ipython3",
   "version": "3.8.3"
  }
 },
 "nbformat": 4,
 "nbformat_minor": 5
}
