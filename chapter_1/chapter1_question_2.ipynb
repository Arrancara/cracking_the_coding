{
 "cells": [
  {
   "cell_type": "markdown",
   "id": "200eaaa8",
   "metadata": {},
   "source": [
    "CHECK PERMUTATIONS\n"
   ]
  },
  {
   "cell_type": "markdown",
   "id": "81f6babc",
   "metadata": {},
   "source": [
    "1.2)Given two strings, write a method to decide if one is a permutation of the\n",
    "other. "
   ]
  },
  {
   "cell_type": "markdown",
   "id": "d14b8a0f",
   "metadata": {},
   "source": [
    "General ideas, so essentially for something to be a permutation, then we need the hash values of both the functions to the same.\n",
    "\n",
    "Method:\n",
    "Loop over both strings, and then find the hash of each string, if they are equal to each other then they are permutations. We can simply use the ord(char) function and sum these.\n",
    "\n",
    "$O(1)$ Space complexity and $O(2*n)$ Time complexity."
   ]
  },
  {
   "cell_type": "code",
   "execution_count": 8,
   "id": "beaa99dd",
   "metadata": {},
   "outputs": [],
   "source": [
    "def check_permutation(string1,string2):\n",
    "    \n",
    "    if len(string1) != len(string2):\n",
    "        return False\n",
    "    chars_1 = chars_2 = 0\n",
    "    for chars in string1:\n",
    "        chars_1 += ord(chars)\n",
    "    for char in string2:\n",
    "        chars_2 += ord(char)\n",
    "    \n",
    "    if chars_2 == chars_1:\n",
    "        return True\n",
    "    else:\n",
    "        return False\n",
    "    "
   ]
  },
  {
   "cell_type": "code",
   "execution_count": 15,
   "id": "7e55af00",
   "metadata": {},
   "outputs": [
    {
     "data": {
      "text/plain": [
       "True"
      ]
     },
     "execution_count": 15,
     "metadata": {},
     "output_type": "execute_result"
    }
   ],
   "source": [
    "check_permutation(\"9\",\"9\")"
   ]
  },
  {
   "cell_type": "code",
   "execution_count": null,
   "id": "72076190",
   "metadata": {},
   "outputs": [],
   "source": []
  }
 ],
 "metadata": {
  "kernelspec": {
   "display_name": "Python 3 (ipykernel)",
   "language": "python",
   "name": "python3"
  },
  "language_info": {
   "codemirror_mode": {
    "name": "ipython",
    "version": 3
   },
   "file_extension": ".py",
   "mimetype": "text/x-python",
   "name": "python",
   "nbconvert_exporter": "python",
   "pygments_lexer": "ipython3",
   "version": "3.8.3"
  }
 },
 "nbformat": 4,
 "nbformat_minor": 5
}
